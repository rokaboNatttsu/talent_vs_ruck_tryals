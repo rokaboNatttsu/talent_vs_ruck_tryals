{
 "cells": [
  {
   "cell_type": "markdown",
   "id": "8b6cac32",
   "metadata": {},
   "source": [
    "研究者への資本配分(を想定していると思われる)パートの再現"
   ]
  },
  {
   "cell_type": "code",
   "execution_count": 1,
   "id": "dfbc92af-7abc-49a9-ab07-69b158769e43",
   "metadata": {},
   "outputs": [],
   "source": [
    "using DataFrames\n",
    "using PyPlot"
   ]
  },
  {
   "cell_type": "code",
   "execution_count": 2,
   "id": "363c3f0d-3241-4fbe-b324-d635a408848b",
   "metadata": {},
   "outputs": [
    {
     "data": {
      "text/plain": [
       "initialize (generic function with 1 method)"
      ]
     },
     "execution_count": 2,
     "metadata": {},
     "output_type": "execute_result"
    }
   ],
   "source": [
    "function initialize(N, C0, average_talent, talent_distribution)\n",
    "    t = [average_talent for _ = 1:N] + talent_distribution*randn(N)\n",
    "    for i = 1:N\n",
    "        if t[i] < 0.0\n",
    "            t[i] = 0.0\n",
    "        elseif t[i] > 1.0\n",
    "            t[i] = 1.0\n",
    "        end\n",
    "    end\n",
    "\n",
    "    init_info_dic = Dict(\n",
    "        \"1:name\" => [i for i = 1:N],\n",
    "        \"2:talent\" => t,\n",
    "        \"3:meet ruck counter\" => [0 for _ = 1:N],\n",
    "        \"4:get ruck counter\" => [0 for _ = 1:N],\n",
    "        \"5:unruck counter\" => [0 for _ = 1:N],\n",
    "        \"6:capital\" => [C0 for _ = 1:N],\n",
    "        \"7:x\" => rand(N),\n",
    "        \"8:y\" => rand(N),\n",
    "        \"9:r2\" => [0.0 for _ = 1:N],\n",
    "        \"A:talented\" => [false for _ = 1:N],\n",
    "    )\n",
    "\n",
    "    df = DataFrame(init_info_dic)\n",
    "    sort!(df, [:\"2:talent\"], rev=true)\n",
    "    for i = 1:N\n",
    "        if df[i,2] > average_talent + talent_distribution\n",
    "            df[i,10] = true\n",
    "        else\n",
    "            break\n",
    "        end\n",
    "    end\n",
    "\n",
    "    hist(df[:,2], bins=Int(floor(sqrt(N))))\n",
    "    print(\"histgram of the talent\")\n",
    "    xlabel(\"talent\")\n",
    "    return df\n",
    "end"
   ]
  },
  {
   "cell_type": "code",
   "execution_count": 3,
   "id": "ec91f982-1a03-4e4a-8a26-10a9d205751f",
   "metadata": {},
   "outputs": [
    {
     "data": {
      "text/plain": [
       "run (generic function with 1 method)"
      ]
     },
     "execution_count": 3,
     "metadata": {},
     "output_type": "execute_result"
    }
   ],
   "source": [
    "function run(df, cross_range, N_E, I)\n",
    "    ruck_place = rand(N_E,2)\n",
    "    unruck_place = rand(N_E,2)\n",
    "    \n",
    "    I = size(df)[1]\n",
    "    for t = 1:I\n",
    "        for p = 1:size(ruck_place)[1]\n",
    "            x, y = ruck_place[p,:]\n",
    "            for i = 1:size(df)[1]\n",
    "                df[i,9] = 0\n",
    "                df[i,9] += (df[i,7] - x)^2\n",
    "                df[i,9] += (df[i,8] - y)^2\n",
    "            \n",
    "                if df[i,9] <= cross_range^2\n",
    "                    df[i,3] += 1\n",
    "                    if rand() <= df[i,2]\n",
    "                        df[i,4] += 1\n",
    "                        df[i,6] *= 2\n",
    "                    end\n",
    "                end\n",
    "            end\n",
    "        end\n",
    "        for p = 1:size(unruck_place)[1]\n",
    "            x, y = unruck_place[p,:]\n",
    "            for i = 1:size(df)[1]\n",
    "                df[i,9] = 0\n",
    "                df[i,9] += (df[i,7] - x)^2\n",
    "                df[i,9] += (df[i,8] - y)^2\n",
    "            \n",
    "                if df[i,9] <= cross_range^2\n",
    "                    df[i,5] += 1\n",
    "                    df[i,6] /= 2\n",
    "                end\n",
    "            end\n",
    "        end\n",
    "         \n",
    "        ruck_place += 0.011*randn(N_E, 2)\n",
    "        unruck_place += 0.011*randn(N_E, 2)\n",
    "        for i = 1:size(ruck_place)[1]\n",
    "            while ruck_place[i] < 0\n",
    "                ruck_place[i] += 1\n",
    "            end\n",
    "            while ruck_place[i] > 1\n",
    "                ruck_place[i] -= 1\n",
    "            end\n",
    "        end\n",
    "        for i = 1:size(unruck_place)[1]\n",
    "            while unruck_place[i] < 0\n",
    "                unruck_place[i] += 1\n",
    "            end\n",
    "            while unruck_place[i] > 1\n",
    "                unruck_place[i] -= 1\n",
    "            end\n",
    "        end\n",
    "    end\n",
    "end"
   ]
  },
  {
   "cell_type": "code",
   "execution_count": 4,
   "id": "ed5a8165-4664-4c76-b318-536cc2f3667e",
   "metadata": {},
   "outputs": [
    {
     "data": {
      "text/plain": [
       "cal_P_T (generic function with 1 method)"
      ]
     },
     "execution_count": 4,
     "metadata": {},
     "output_type": "execute_result"
    }
   ],
   "source": [
    "function cal_P_T(df, C0)\n",
    "    P_T, c, d, e = 0, 0, 0, 0\n",
    "    for i = 1:size(df)[1]\n",
    "        if df[i,10]\n",
    "            c += 1\n",
    "            if df[i,6] > C0\n",
    "                d += 1\n",
    "            elseif df[i,6] == C0\n",
    "                e += 1\n",
    "            end\n",
    "        end\n",
    "    end\n",
    "    f = d + e*d/(c-e)\n",
    "    P_T = 100*f/size(df)[1]\n",
    "    return P_T\n",
    "end"
   ]
  },
  {
   "cell_type": "code",
   "execution_count": null,
   "id": "4110aa1d-ff62-4567-9409-ed4a25bb3cb1",
   "metadata": {},
   "outputs": [],
   "source": [
    "N = 10^3\n",
    "I = 80\n",
    "C0 = 10.0\n",
    "N_E = Int(N // 2)\n",
    "cross_range = 0.005\n",
    "average_talent = 0.6\n",
    "talent_distribution = 0.1\n",
    "\n",
    "TIMES = 100\n",
    "P_T0 = 0\n",
    "for t = 1:TIMES\n",
    "    df = initialize(N, C0, average_talent, talent_distribution)\n",
    "    run(df, cross_range, N_E, I)\n",
    "    P_T0 += cal_P_T(df, C0)\n",
    "    println(P_T0, t)\n",
    "end\n",
    "P_T0 /= TIMES\n",
    "P_T0"
   ]
  },
  {
   "cell_type": "code",
   "execution_count": null,
   "id": "56be1827-4ea6-4beb-a73c-7d1a1e302f86",
   "metadata": {},
   "outputs": [],
   "source": []
  }
 ],
 "metadata": {
  "kernelspec": {
   "display_name": "Julia 1.7.2",
   "language": "julia",
   "name": "julia-1.7"
  },
  "language_info": {
   "file_extension": ".jl",
   "mimetype": "application/julia",
   "name": "julia",
   "version": "1.7.2"
  }
 },
 "nbformat": 4,
 "nbformat_minor": 5
}
