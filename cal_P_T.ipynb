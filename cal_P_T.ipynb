{
 "cells": [
  {
   "cell_type": "code",
   "execution_count": 1,
   "id": "c71dd33b-0667-496d-ad23-98fc41828747",
   "metadata": {},
   "outputs": [],
   "source": [
    "using DataFrames\n",
    "using PyPlot\n",
    "using StatsBase"
   ]
  },
  {
   "cell_type": "code",
   "execution_count": 2,
   "id": "2befabc4-58cb-4547-995a-49165c5bc76e",
   "metadata": {},
   "outputs": [
    {
     "data": {
      "text/plain": [
       "0"
      ]
     },
     "execution_count": 2,
     "metadata": {},
     "output_type": "execute_result"
    }
   ],
   "source": [
    "round(Int64,0.5)"
   ]
  },
  {
   "cell_type": "code",
   "execution_count": 3,
   "id": "8e651a9d-7f8b-4ba2-9fd8-8e6923b43752",
   "metadata": {},
   "outputs": [
    {
     "data": {
      "text/plain": [
       "3-element Vector{Int64}:\n",
       " 6\n",
       " 4\n",
       " 7"
      ]
     },
     "execution_count": 3,
     "metadata": {},
     "output_type": "execute_result"
    }
   ],
   "source": [
    "sample(1:10, 3, replace=false)"
   ]
  },
  {
   "cell_type": "code",
   "execution_count": null,
   "id": "9fa48051-5f54-4be2-a47a-2e7642dcb5dc",
   "metadata": {},
   "outputs": [],
   "source": [
    "# P_TにはF_Tを含めるのか、C(0)だけなのか"
   ]
  }
 ],
 "metadata": {
  "kernelspec": {
   "display_name": "Julia 1.7.2",
   "language": "julia",
   "name": "julia-1.7"
  },
  "language_info": {
   "file_extension": ".jl",
   "mimetype": "application/julia",
   "name": "julia",
   "version": "1.7.2"
  }
 },
 "nbformat": 4,
 "nbformat_minor": 5
}
