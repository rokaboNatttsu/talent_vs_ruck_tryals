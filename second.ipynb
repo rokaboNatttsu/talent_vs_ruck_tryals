{
 "cells": [
  {
   "cell_type": "code",
   "execution_count": 2,
   "metadata": {},
   "outputs": [],
   "source": [
    "import numpy as np\n",
    "import pandas as pd\n",
    "import matplotlib.pyplot as plt"
   ]
  },
  {
   "cell_type": "markdown",
   "metadata": {},
   "source": [
    "幸運と不運\n",
    "\n",
    "確率が才能依存とそうでないもの\n",
    "\n",
    "資産増加量が現状の定数倍と一定値のもの\n",
    "\n",
    "遭遇確率が資本依存とそうでないもの\n",
    "\n",
    "\n",
    "2**4=16種類の幸運・不運ポイント"
   ]
  },
  {
   "cell_type": "code",
   "execution_count": 5,
   "metadata": {},
   "outputs": [
    {
     "data": {
      "text/plain": [
       "array([False, False, False, False, False, False, False, False, False,\n",
       "       False])"
      ]
     },
     "execution_count": 5,
     "metadata": {},
     "output_type": "execute_result"
    }
   ],
   "source": [
    "arr = np.zeros((10,2))\n",
    "arr[:,0] + arr[:,1] < 0"
   ]
  },
  {
   "cell_type": "code",
   "execution_count": 8,
   "metadata": {},
   "outputs": [
    {
     "data": {
      "text/plain": [
       "array([[-0.02671712,  0.04649144],\n",
       "       [ 0.06306006,  0.31093965],\n",
       "       [ 0.3414317 ,  0.18327714],\n",
       "       [ 0.46549274,  0.387088  ],\n",
       "       [-0.26407197,  0.36643949],\n",
       "       [-0.14694222, -0.09239838],\n",
       "       [ 0.43861892,  0.0895264 ],\n",
       "       [-0.44207214,  0.18158816],\n",
       "       [ 0.00775352, -0.3451218 ],\n",
       "       [ 0.31126618,  0.49746863]])"
      ]
     },
     "execution_count": 8,
     "metadata": {},
     "output_type": "execute_result"
    }
   ],
   "source": [
    "arr = np.random.rand(10, 2)\n",
    "arr[arr>0.5] -= 1\n",
    "arr"
   ]
  },
  {
   "cell_type": "code",
   "execution_count": null,
   "metadata": {},
   "outputs": [],
   "source": [
    "r2 = (p_arr[:,0] - x)**2 + (p_arr[:,1] - y)**2\n",
    "account = r2 < d**2"
   ]
  },
  {
   "cell_type": "code",
   "execution_count": null,
   "metadata": {},
   "outputs": [],
   "source": [
    "N0000, d0000 = 100, 0.01\n",
    "p0000 = np.random.rand(N0000, 2)"
   ]
  },
  {
   "cell_type": "code",
   "execution_count": null,
   "metadata": {},
   "outputs": [],
   "source": [
    "N = 1000\n",
    "gift = 0.5 + 0.1*np.random.randn()\n",
    "gift[gift<0] = 0\n",
    "gift[gift>1] = 1\n",
    "\n",
    "info = {\n",
    "    \"gift\":gift,\n",
    "    \"capital\":np.zeros(N) + 1,\n",
    "    \"meet ruck000\":np.zeros(N),\n",
    "    \"get ruck000\"\n",
    "\n",
    "    \"capital log\"\n",
    "}\n",
    "agents_df = pd.DataFrame(info)"
   ]
  }
 ],
 "metadata": {
  "kernelspec": {
   "display_name": "Python 3.10.4 ('.jupyter_env')",
   "language": "python",
   "name": "python3"
  },
  "language_info": {
   "codemirror_mode": {
    "name": "ipython",
    "version": 3
   },
   "file_extension": ".py",
   "mimetype": "text/x-python",
   "name": "python",
   "nbconvert_exporter": "python",
   "pygments_lexer": "ipython3",
   "version": "3.10.4"
  },
  "orig_nbformat": 4,
  "vscode": {
   "interpreter": {
    "hash": "1d79d47b9e09916282e80d76f5dda9787d541e37fc5360372eab0d1a1f7e05d3"
   }
  }
 },
 "nbformat": 4,
 "nbformat_minor": 2
}
