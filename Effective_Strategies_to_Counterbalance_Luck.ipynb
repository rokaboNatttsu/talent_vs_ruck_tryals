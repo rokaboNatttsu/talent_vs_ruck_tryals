{
 "cells": [
  {
   "cell_type": "code",
   "execution_count": null,
   "id": "dfbc92af-7abc-49a9-ab07-69b158769e43",
   "metadata": {},
   "outputs": [],
   "source": []
  }
 ],
 "metadata": {
  "kernelspec": {
   "display_name": "Julia 1.7.2",
   "language": "julia",
   "name": "julia-1.7"
  },
  "language_info": {
   "file_extension": ".jl",
   "mimetype": "application/julia",
   "name": "julia",
   "version": "1.7.2"
  }
 },
 "nbformat": 4,
 "nbformat_minor": 5
}
